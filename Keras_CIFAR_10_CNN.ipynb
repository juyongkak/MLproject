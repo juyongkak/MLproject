{
  "nbformat": 4,
  "nbformat_minor": 0,
  "metadata": {
    "colab": {
      "name": "Keras CIFAR-10 CNN.ipynb",
      "provenance": [],
      "collapsed_sections": [],
      "authorship_tag": "ABX9TyNNzA5AFxUeiE8oH10B2icp",
      "include_colab_link": true
    },
    "kernelspec": {
      "name": "python3",
      "display_name": "Python 3"
    },
    "language_info": {
      "name": "python"
    },
    "accelerator": "GPU"
  },
  "cells": [
    {
      "cell_type": "markdown",
      "metadata": {
        "id": "view-in-github",
        "colab_type": "text"
      },
      "source": [
        "<a href=\"https://colab.research.google.com/github/juyongkak/MLproject/blob/main/Keras_CIFAR_10_CNN.ipynb\" target=\"_parent\"><img src=\"https://colab.research.google.com/assets/colab-badge.svg\" alt=\"Open In Colab\"/></a>"
      ]
    },
    {
      "cell_type": "code",
      "execution_count": null,
      "metadata": {
        "id": "Gt0bXrP9H5O7"
      },
      "outputs": [],
      "source": [
        "import numpy as np\n",
        "from keras.utils import np_utils # One-hot vector\n",
        "from keras.datasets import cifar10 # Load CIFAR-10 dataset\n",
        "from keras.models import Sequential\n",
        "from keras.layers import Dense, Activation\n",
        "from keras.layers import Conv2D, MaxPooling2D, Flatten\n",
        "from google.colab.patches import cv2_imshow"
      ]
    },
    {
      "cell_type": "code",
      "source": [
        "# CIFAR-10 Dataset 가져오기\n",
        "(x_train, y_train), (x_test, y_test) = cifar10.load_data()"
      ],
      "metadata": {
        "colab": {
          "base_uri": "https://localhost:8080/"
        },
        "id": "ha17vtwSI1mn",
        "outputId": "62157c7b-d33f-4068-ed5c-6bc5d7c1a157"
      },
      "execution_count": null,
      "outputs": [
        {
          "output_type": "stream",
          "name": "stdout",
          "text": [
            "Downloading data from https://www.cs.toronto.edu/~kriz/cifar-10-python.tar.gz\n",
            "170500096/170498071 [==============================] - 2s 0us/step\n",
            "170508288/170498071 [==============================] - 2s 0us/step\n"
          ]
        }
      ]
    },
    {
      "cell_type": "code",
      "source": [
        "print('x_train :', np.shape(x_train))\n",
        "print('y_train :', np.shape(y_train))"
      ],
      "metadata": {
        "colab": {
          "base_uri": "https://localhost:8080/"
        },
        "id": "PehDTR_MJL2j",
        "outputId": "7043145d-c8c8-467c-f7d0-3ca57f6c9a74"
      },
      "execution_count": null,
      "outputs": [
        {
          "output_type": "stream",
          "name": "stdout",
          "text": [
            "x_train : (50000, 32, 32, 3)\n",
            "y_train : (50000, 1)\n"
          ]
        }
      ]
    },
    {
      "cell_type": "code",
      "source": [
        "print('x_test :', np.shape(x_test))\n",
        "print('y_test :', np.shape(y_test))"
      ],
      "metadata": {
        "colab": {
          "base_uri": "https://localhost:8080/"
        },
        "id": "VhGpXKnxJSjQ",
        "outputId": "0e7d17d4-58f0-4227-f243-37b8d4c41327"
      },
      "execution_count": null,
      "outputs": [
        {
          "output_type": "stream",
          "name": "stdout",
          "text": [
            "x_test : (10000, 32, 32, 3)\n",
            "y_test : (10000, 1)\n"
          ]
        }
      ]
    },
    {
      "cell_type": "code",
      "source": [
        "# Training image 10개 미리보기기\n",
        "for i in range(10):\n",
        "  cv2_imshow(x_train[i])"
      ],
      "metadata": {
        "colab": {
          "base_uri": "https://localhost:8080/",
          "height": 337
        },
        "id": "UMsY7vu9JmLA",
        "outputId": "7c1257be-2338-4c84-a7e1-638d25246a83"
      },
      "execution_count": null,
      "outputs": [
        {
          "output_type": "display_data",
          "data": {
            "image/png": "[encoded data removed]",
            "text/plain": [
              "<PIL.Image.Image image mode=RGB size=32x32 at 0x7F3FD2E94B50>"
            ]
          },
          "metadata": {}
        },
        {
          "output_type": "display_data",
          "data": {
            "image/png": "[encoded data removed]",
            "text/plain": [
              "<PIL.Image.Image image mode=RGB size=32x32 at 0x7F3FD2A163D0>"
            ]
          },
          "metadata": {}
        },
        {
          "output_type": "display_data",
          "data": {
            "image/png": "[encoded data removed]",
            "text/plain": [
              "<PIL.Image.Image image mode=RGB size=32x32 at 0x7F3FD2A163D0>"
            ]
          },
          "metadata": {}
        },
        {
          "output_type": "display_data",
          "data": {
            "image/png": "[encoded data removed]",
            "text/plain": [
              "<PIL.Image.Image image mode=RGB size=32x32 at 0x7F3FD23D3790>"
            ]
          },
          "metadata": {}
        },
        {
          "output_type": "display_data",
          "data": {
            "image/png": "[encoded data removed]",
            "text/plain": [
              "<PIL.Image.Image image mode=RGB size=32x32 at 0x7F3FD2A16610>"
            ]
          },
          "metadata": {}
        },
        {
          "output_type": "display_data",
          "data": {
            "image/png": "[encoded data removed]",
            "text/plain": [
              "<PIL.Image.Image image mode=RGB size=32x32 at 0x7F3FD2E94990>"
            ]
          },
          "metadata": {}
        },
        {
          "output_type": "display_data",
          "data": {
            "image/png": "[encoded data removed]",
            "text/plain": [
              "<PIL.Image.Image image mode=RGB size=32x32 at 0x7F3FD23D31D0>"
            ]
          },
          "metadata": {}
        },
        {
          "output_type": "display_data",
          "data": {
            "image/png": "[encoded data removed]",
            "text/plain": [
              "<PIL.Image.Image image mode=RGB size=32x32 at 0x7F3FD23D31D0>"
            ]
          },
          "metadata": {}
        },
        {
          "output_type": "display_data",
          "data": {
            "image/png": "[encoded data removed]",
            "text/plain": [
              "<PIL.Image.Image image mode=RGB size=32x32 at 0x7F3FD23D3DD0>"
            ]
          },
          "metadata": {}
        },
        {
          "output_type": "display_data",
          "data": {
            "image/png": "[encoded data removed]",
            "text/plain": [
              "<PIL.Image.Image image mode=RGB size=32x32 at 0x7F3FD23D3DD0>"
            ]
          },
          "metadata": {}
        }
      ]
    },
    {
      "cell_type": "code",
      "source": [
        "# Normalization(?)\n",
        "x_train = x_train.astype('float32') / 255.0\n",
        "x_test = x_test.astype('float32') / 255.0"
      ],
      "metadata": {
        "id": "DXubyU7bJxcD"
      },
      "execution_count": null,
      "outputs": []
    },
    {
      "cell_type": "code",
      "source": [
        "# One-Hot Encoding (숫자를 One-hot vector로)\n",
        "y_train = np_utils.to_categorical(y_train)\n",
        "y_test = np_utils.to_categorical(y_test)"
      ],
      "metadata": {
        "id": "nXWVfWwKKCnE"
      },
      "execution_count": null,
      "outputs": []
    },
    {
      "cell_type": "code",
      "source": [
        "print('y_train :', np.shape(y_train))"
      ],
      "metadata": {
        "colab": {
          "base_uri": "https://localhost:8080/"
        },
        "id": "HyiFoeKsKMm4",
        "outputId": "c38b5a2e-0c09-4f07-8ce1-371a8610ea45"
      },
      "execution_count": null,
      "outputs": [
        {
          "output_type": "stream",
          "name": "stdout",
          "text": [
            "y_train : (50000, 10)\n"
          ]
        }
      ]
    },
    {
      "cell_type": "markdown",
      "source": [
        "\n",
        "\n",
        "---\n",
        "\n",
        "\n",
        "**CNN 모델 정의하기**\n",
        "\n",
        "\n",
        "> *   모델 구성하기\n",
        "\n",
        "\n",
        "\n",
        "\n",
        "\n"
      ],
      "metadata": {
        "id": "ELdDk1ylKVaQ"
      }
    },
    {
      "cell_type": "code",
      "source": [
        "# 높이, 너비, 채널(RGB) 설정\n",
        "width = 32\n",
        "height = 32\n",
        "channel = 3"
      ],
      "metadata": {
        "id": "hlqG6YsLKQJG"
      },
      "execution_count": null,
      "outputs": []
    },
    {
      "cell_type": "code",
      "source": [
        "# 순차적 모델을 만들기 위한 Sequential() 함수\n",
        "model = Sequential(name='CIFAR10_CNN')\n",
        "\n",
        "# filters : Kernel 그룹의 갯수 / kernel_size : Kernel 크기\n",
        "model.add(Conv2D(filters=32, kernel_size=(3, 3), padding='same', activation='relu', input_shape=(width, height, channel)))\n",
        "model.add(Conv2D(filters=32, kernel_size=(3, 3), padding='same', activation='relu'))"
      ],
      "metadata": {
        "id": "XSwoCN17LJ7p"
      },
      "execution_count": null,
      "outputs": []
    },
    {
      "cell_type": "code",
      "source": [
        "# Pool_size : MaxPooling의 Window size\n",
        "model.add(MaxPooling2D(pool_size=(2,2)))\n",
        "\n",
        "model.add(Conv2D(filters=64, kernel_size=(3, 3), padding='same', activation='relu'))\n",
        "model.add(Conv2D(filters=64, kernel_size=(3, 3), padding='same', activation='relu'))\n",
        "model.add(MaxPooling2D(pool_size=(2, 2)))\n",
        "\n",
        "model.add(Conv2D(filters=128, kernel_size=(3, 3), padding='same', activation='relu'))\n",
        "model.add(Conv2D(filters=128, kernel_size=(3, 3), padding='same', activation='relu'))\n",
        "model.add(MaxPooling2D(pool_size=(2, 2)))"
      ],
      "metadata": {
        "id": "jKJT50vqLpNk"
      },
      "execution_count": null,
      "outputs": []
    },
    {
      "cell_type": "code",
      "source": [
        "model.add(Flatten()) # N차원배열을 1차원으로 펴준다.\n",
        "model.add(Dense(10, activation='softmax'))\n",
        "model.summary()"
      ],
      "metadata": {
        "colab": {
          "base_uri": "https://localhost:8080/"
        },
        "id": "VFjrX9M4MKvH",
        "outputId": "43b347ae-e304-4df4-c17f-a279a3328c40"
      },
      "execution_count": null,
      "outputs": [
        {
          "output_type": "stream",
          "name": "stdout",
          "text": [
            "Model: \"CIFAR10_CNN\"\n",
            "_________________________________________________________________\n",
            " Layer (type)                Output Shape              Param #   \n",
            "=================================================================\n",
            " conv2d (Conv2D)             (None, 32, 32, 32)        896       \n",
            "                                                                 \n",
            " conv2d_1 (Conv2D)           (None, 32, 32, 32)        9248      \n",
            "                                                                 \n",
            " max_pooling2d (MaxPooling2D  (None, 16, 16, 32)       0         \n",
            " )                                                               \n",
            "                                                                 \n",
            " conv2d_2 (Conv2D)           (None, 16, 16, 64)        18496     \n",
            "                                                                 \n",
            " conv2d_3 (Conv2D)           (None, 16, 16, 64)        36928     \n",
            "                                                                 \n",
            " max_pooling2d_1 (MaxPooling  (None, 8, 8, 64)         0         \n",
            " 2D)                                                             \n",
            "                                                                 \n",
            " conv2d_4 (Conv2D)           (None, 8, 8, 128)         73856     \n",
            "                                                                 \n",
            " conv2d_5 (Conv2D)           (None, 8, 8, 128)         147584    \n",
            "                                                                 \n",
            " max_pooling2d_2 (MaxPooling  (None, 4, 4, 128)        0         \n",
            " 2D)                                                             \n",
            "                                                                 \n",
            " flatten (Flatten)           (None, 2048)              0         \n",
            "                                                                 \n",
            " dense (Dense)               (None, 10)                20490     \n",
            "                                                                 \n",
            "=================================================================\n",
            "Total params: 307,498\n",
            "Trainable params: 307,498\n",
            "Non-trainable params: 0\n",
            "_________________________________________________________________\n"
          ]
        }
      ]
    },
    {
      "cell_type": "markdown",
      "source": [
        "**학습 시작**\n",
        "\n",
        "\n",
        "> loss : 목적함수 \\\\\n",
        "> categorical_crossentry : 분류가 2개 이상인 CEE \\\\\n",
        "> optimizer : 학습 방법, SGD를 사용합니다. \\\\\n",
        "> metrics : 학습 도중 화면에 어떤 값을 띄울까를 결정합니다.\n"
      ],
      "metadata": {
        "id": "jQTJwMl3Ma_M"
      }
    },
    {
      "cell_type": "code",
      "source": [
        "model.compile(loss='categorical_crossentropy', optimizer='sgd', metrics=['accuracy'])\n",
        "hist = model.fit(x_train, y_train, epochs=15, batch_size=32, validation_data=(x_test, y_test))"
      ],
      "metadata": {
        "colab": {
          "base_uri": "https://localhost:8080/"
        },
        "id": "-4NhBxKRMYYY",
        "outputId": "93b9f1fd-ecdf-4e77-e84e-3166d29959dd"
      },
      "execution_count": null,
      "outputs": [
        {
          "output_type": "stream",
          "name": "stdout",
          "text": [
            "Epoch 1/15\n",
            "1563/1563 [==============================] - 38s 17ms/step - loss: 2.0358 - accuracy: 0.2551 - val_loss: 1.7598 - val_accuracy: 0.3811\n",
            "Epoch 2/15\n",
            "1563/1563 [==============================] - 24s 16ms/step - loss: 1.6192 - accuracy: 0.4205 - val_loss: 1.5435 - val_accuracy: 0.4389\n",
            "Epoch 3/15\n",
            "1563/1563 [==============================] - 25s 16ms/step - loss: 1.4249 - accuracy: 0.4913 - val_loss: 1.3722 - val_accuracy: 0.5056\n",
            "Epoch 4/15\n",
            "1563/1563 [==============================] - 26s 17ms/step - loss: 1.2916 - accuracy: 0.5405 - val_loss: 1.2720 - val_accuracy: 0.5442\n",
            "Epoch 5/15\n",
            "1563/1563 [==============================] - 26s 16ms/step - loss: 1.1714 - accuracy: 0.5862 - val_loss: 1.1805 - val_accuracy: 0.5811\n",
            "Epoch 6/15\n",
            "1563/1563 [==============================] - 26s 17ms/step - loss: 1.0633 - accuracy: 0.6267 - val_loss: 1.0842 - val_accuracy: 0.6132\n",
            "Epoch 7/15\n",
            "1563/1563 [==============================] - 25s 16ms/step - loss: 0.9706 - accuracy: 0.6585 - val_loss: 1.0532 - val_accuracy: 0.6307\n",
            "Epoch 8/15\n",
            "1563/1563 [==============================] - 26s 17ms/step - loss: 0.8884 - accuracy: 0.6935 - val_loss: 1.0689 - val_accuracy: 0.6297\n",
            "Epoch 9/15\n",
            "1563/1563 [==============================] - 26s 17ms/step - loss: 0.8138 - accuracy: 0.7178 - val_loss: 1.0313 - val_accuracy: 0.6471\n",
            "Epoch 10/15\n",
            "1563/1563 [==============================] - 26s 17ms/step - loss: 0.7452 - accuracy: 0.7423 - val_loss: 1.0779 - val_accuracy: 0.6315\n",
            "Epoch 11/15\n",
            "1563/1563 [==============================] - 27s 17ms/step - loss: 0.6798 - accuracy: 0.7632 - val_loss: 0.9315 - val_accuracy: 0.6858\n",
            "Epoch 12/15\n",
            "1563/1563 [==============================] - 27s 17ms/step - loss: 0.6213 - accuracy: 0.7847 - val_loss: 0.9385 - val_accuracy: 0.6936\n",
            "Epoch 13/15\n",
            "1563/1563 [==============================] - 27s 17ms/step - loss: 0.5591 - accuracy: 0.8062 - val_loss: 0.9043 - val_accuracy: 0.6997\n",
            "Epoch 14/15\n",
            "1563/1563 [==============================] - 26s 16ms/step - loss: 0.5063 - accuracy: 0.8233 - val_loss: 1.0434 - val_accuracy: 0.6665\n",
            "Epoch 15/15\n",
            "1563/1563 [==============================] - 26s 17ms/step - loss: 0.4529 - accuracy: 0.8428 - val_loss: 0.9877 - val_accuracy: 0.7026\n"
          ]
        }
      ]
    },
    {
      "cell_type": "code",
      "source": [
        "import matplotlib.pyplot as plt\n",
        "\n",
        "plt.plot(hist.history['loss'], 'y', label='train loss')\n",
        "plt.plot(hist.history['val_loss'], 'r', label='val loss')\n",
        "\n",
        "plt.ylim([0.0,2.5])\n",
        "\n",
        "plt.xlabel('epoch')\n",
        "plt.ylabel('loss')\n",
        "\n",
        "plt.legend(loc='lower left')\n",
        "\n",
        "plt.rcParams[\"figure.figsize\"] = (8,6)\n",
        "plt.show()"
      ],
      "metadata": {
        "colab": {
          "base_uri": "https://localhost:8080/",
          "height": 283
        },
        "id": "Kcc6yWypNIYa",
        "outputId": "9e22930a-6412-47c9-cdc5-e76b47431830"
      },
      "execution_count": null,
      "outputs": [
        {
          "output_type": "display_data",
          "data": {
            "image/png": "[encoded data removed]",
            "text/plain": [
              "<Figure size 432x288 with 1 Axes>"
            ]
          },
          "metadata": {
            "needs_background": "light"
          }
        }
      ]
    },
    {
      "cell_type": "code",
      "source": [
        "plt.plot(hist.history['accuracy'], 'b', label='train acc')\n",
        "plt.plot(hist.history['val_accuracy'], 'g', label='val acc')\n",
        "\n",
        "plt.ylim([0.2,1.0])\n",
        "\n",
        "plt.xlabel('epoch')\n",
        "plt.ylabel('accuracy')\n",
        "\n",
        "plt.legend(loc='upper left')\n",
        "\n",
        "plt.rcParams[\"figure.figsize\"] = (8,6)\n",
        "plt.show()"
      ],
      "metadata": {
        "colab": {
          "base_uri": "https://localhost:8080/",
          "height": 392
        },
        "id": "hlHObQnWQXe8",
        "outputId": "837658a5-0820-4c3b-fe51-317981086190"
      },
      "execution_count": null,
      "outputs": [
        {
          "output_type": "display_data",
          "data": {
            "image/png": "[encoded data removed]",
            "text/plain": [
              "<Figure size 576x432 with 1 Axes>"
            ]
          },
          "metadata": {
            "needs_background": "light"
          }
        }
      ]
    },
    {
      "cell_type": "markdown",
      "source": [
        "**모델 평가**"
      ],
      "metadata": {
        "id": "SE33ttd9RoCz"
      }
    },
    {
      "cell_type": "code",
      "source": [
        "loss_and_acc = model.evaluate(x_test, y_test, batch_size=32)\n",
        "print('Test set Loss and Accuracy')\n",
        "print(loss_and_acc)"
      ],
      "metadata": {
        "colab": {
          "base_uri": "https://localhost:8080/"
        },
        "id": "qavF4VIEQwSL",
        "outputId": "c44bafef-0213-42b3-b450-bc7577da2fe5"
      },
      "execution_count": null,
      "outputs": [
        {
          "output_type": "stream",
          "name": "stdout",
          "text": [
            "313/313 [==============================] - 2s 8ms/step - loss: 0.9877 - accuracy: 0.7026\n",
            "Test set Loss and Accuracy\n",
            "[0.9877381920814514, 0.7026000022888184]\n"
          ]
        }
      ]
    },
    {
      "cell_type": "code",
      "source": [
        "labels = ['비행기', '자동차', '새', '고양이', '사슴', '개', '개구리', '말', '배', '트럭']\n",
        "\n",
        "plt.rcParams[\"figure.figsize\"] = (2,2)\n",
        "\n",
        "for i in range(10):\n",
        "  output = model.predict(x_test[i].reshape(1,width,height,channel))\n",
        "  plt.imshow(x_test[i].reshape(width,height,channel))\n",
        "\n",
        "  print('예측측 :' + labels[np.argmax(output)] + ' / 정답답 : ' + labels[np.argmax(y_test[i])])\n",
        "  plt.show()"
      ],
      "metadata": {
        "colab": {
          "base_uri": "https://localhost:8080/",
          "height": 1000
        },
        "id": "zsQ6NgonRyCt",
        "outputId": "30bdc612-85c8-42ff-b5fe-b45ef8c6c073"
      },
      "execution_count": null,
      "outputs": [
        {
          "output_type": "stream",
          "name": "stdout",
          "text": [
            "예측측 :고양이 / 정답답 : 고양이\n"
          ]
        },
        {
          "output_type": "display_data",
          "data": {
            "image/png": "[encoded data removed]",
            "text/plain": [
              "<Figure size 144x144 with 1 Axes>"
            ]
          },
          "metadata": {
            "needs_background": "light"
          }
        },
        {
          "output_type": "stream",
          "name": "stdout",
          "text": [
            "예측측 :배 / 정답답 : 배\n"
          ]
        },
        {
          "output_type": "display_data",
          "data": {
            "image/png": "[encoded data removed]",
            "text/plain": [
              "<Figure size 144x144 with 1 Axes>"
            ]
          },
          "metadata": {
            "needs_background": "light"
          }
        },
        {
          "output_type": "stream",
          "name": "stdout",
          "text": [
            "예측측 :배 / 정답답 : 배\n"
          ]
        },
        {
          "output_type": "display_data",
          "data": {
            "image/png": "[encoded data removed]",
            "text/plain": [
              "<Figure size 144x144 with 1 Axes>"
            ]
          },
          "metadata": {
            "needs_background": "light"
          }
        },
        {
          "output_type": "stream",
          "name": "stdout",
          "text": [
            "예측측 :비행기 / 정답답 : 비행기\n"
          ]
        },
        {
          "output_type": "display_data",
          "data": {
            "image/png": "[encoded data removed]",
            "text/plain": [
              "<Figure size 144x144 with 1 Axes>"
            ]
          },
          "metadata": {
            "needs_background": "light"
          }
        },
        {
          "output_type": "stream",
          "name": "stdout",
          "text": [
            "예측측 :개구리 / 정답답 : 개구리\n"
          ]
        },
        {
          "output_type": "display_data",
          "data": {
            "image/png": "[encoded data removed]",
            "text/plain": [
              "<Figure size 144x144 with 1 Axes>"
            ]
          },
          "metadata": {
            "needs_background": "light"
          }
        },
        {
          "output_type": "stream",
          "name": "stdout",
          "text": [
            "예측측 :개구리 / 정답답 : 개구리\n"
          ]
        },
        {
          "output_type": "display_data",
          "data": {
            "image/png": "[encoded data removed]",
            "text/plain": [
              "<Figure size 144x144 with 1 Axes>"
            ]
          },
          "metadata": {
            "needs_background": "light"
          }
        },
        {
          "output_type": "stream",
          "name": "stdout",
          "text": [
            "예측측 :자동차 / 정답답 : 자동차\n"
          ]
        },
        {
          "output_type": "display_data",
          "data": {
            "image/png": "[encoded data removed]",
            "text/plain": [
              "<Figure size 144x144 with 1 Axes>"
            ]
          },
          "metadata": {
            "needs_background": "light"
          }
        },
        {
          "output_type": "stream",
          "name": "stdout",
          "text": [
            "예측측 :개구리 / 정답답 : 개구리\n"
          ]
        },
        {
          "output_type": "display_data",
          "data": {
            "image/png": "[encoded data removed]",
            "text/plain": [
              "<Figure size 144x144 with 1 Axes>"
            ]
          },
          "metadata": {
            "needs_background": "light"
          }
        },
        {
          "output_type": "stream",
          "name": "stdout",
          "text": [
            "예측측 :고양이 / 정답답 : 고양이\n"
          ]
        },
        {
          "output_type": "display_data",
          "data": {
            "image/png": "[encoded data removed]",
            "text/plain": [
              "<Figure size 144x144 with 1 Axes>"
            ]
          },
          "metadata": {
            "needs_background": "light"
          }
        },
        {
          "output_type": "stream",
          "name": "stdout",
          "text": [
            "예측측 :자동차 / 정답답 : 자동차\n"
          ]
        },
        {
          "output_type": "display_data",
          "data": {
            "image/png": "[encoded data removed]",
            "text/plain": [
              "<Figure size 144x144 with 1 Axes>"
            ]
          },
          "metadata": {
            "needs_background": "light"
          }
        }
      ]
    },
    {
      "cell_type": "markdown",
      "source": [
        "\n",
        "\n",
        "---\n",
        "**MLP 모델**\n"
      ],
      "metadata": {
        "id": "4tYoFppcV2Pj"
      }
    },
    {
      "cell_type": "code",
      "source": [
        "model = Sequential()\n",
        "\n",
        "# Input layer\n",
        "model.add(Dense(16, input_dim=width * height * channel , activation='relu'))\n",
        "\n",
        "# Hidden layers \n",
        "model.add(Dense(16, activation='relu'))\n",
        "model.add(Dense(16, activation='relu'))\n",
        "model.add(Dense(16, activation='relu'))\n",
        "\n",
        "# Output layer\n",
        "number_of_class = 10\n",
        "model.add(Dense(number_of_class, activation='softmax'))"
      ],
      "metadata": {
        "id": "wgBGLlu3VwlO"
      },
      "execution_count": 23,
      "outputs": []
    },
    {
      "cell_type": "code",
      "source": [
        "model.compile(loss='categorical_crossentropy', optimizer='sgd', metrics=['accuracy'])"
      ],
      "metadata": {
        "id": "FcFwXa5sYnYV"
      },
      "execution_count": 24,
      "outputs": []
    },
    {
      "cell_type": "code",
      "source": [
        "model.fit(x_train, y_train, nb_epoch=15, batch_size=32)"
      ],
      "metadata": {
        "id": "wa_VyObXY0z0",
        "colab": {
          "base_uri": "https://localhost:8080/",
          "height": 307
        },
        "outputId": "6d51a77e-9712-4174-b0c8-3fa7c676bb65"
      },
      "execution_count": 25,
      "outputs": [
        {
          "output_type": "error",
          "ename": "TypeError",
          "evalue": "ignored",
          "traceback": [
            "\u001b[0;31m---------------------------------------------------------------------------\u001b[0m",
            "\u001b[0;31mTypeError\u001b[0m                                 Traceback (most recent call last)",
            "\u001b[0;32m<ipython-input-25-6df11166beee>\u001b[0m in \u001b[0;36m<module>\u001b[0;34m()\u001b[0m\n\u001b[0;32m----> 1\u001b[0;31m \u001b[0mmodel\u001b[0m\u001b[0;34m.\u001b[0m\u001b[0mfit\u001b[0m\u001b[0;34m(\u001b[0m\u001b[0mx_train\u001b[0m\u001b[0;34m,\u001b[0m\u001b[0my_train\u001b[0m\u001b[0;34m,\u001b[0m \u001b[0mnb_epoch\u001b[0m\u001b[0;34m=\u001b[0m\u001b[0;36m15\u001b[0m\u001b[0;34m,\u001b[0m \u001b[0mbatch_size\u001b[0m\u001b[0;34m=\u001b[0m\u001b[0;36m32\u001b[0m\u001b[0;34m)\u001b[0m\u001b[0;34m\u001b[0m\u001b[0;34m\u001b[0m\u001b[0m\n\u001b[0m",
            "\u001b[0;32m/usr/local/lib/python3.7/dist-packages/keras/utils/traceback_utils.py\u001b[0m in \u001b[0;36merror_handler\u001b[0;34m(*args, **kwargs)\u001b[0m\n\u001b[1;32m     65\u001b[0m     \u001b[0;32mexcept\u001b[0m \u001b[0mException\u001b[0m \u001b[0;32mas\u001b[0m \u001b[0me\u001b[0m\u001b[0;34m:\u001b[0m  \u001b[0;31m# pylint: disable=broad-except\u001b[0m\u001b[0;34m\u001b[0m\u001b[0;34m\u001b[0m\u001b[0m\n\u001b[1;32m     66\u001b[0m       \u001b[0mfiltered_tb\u001b[0m \u001b[0;34m=\u001b[0m \u001b[0m_process_traceback_frames\u001b[0m\u001b[0;34m(\u001b[0m\u001b[0me\u001b[0m\u001b[0;34m.\u001b[0m\u001b[0m__traceback__\u001b[0m\u001b[0;34m)\u001b[0m\u001b[0;34m\u001b[0m\u001b[0;34m\u001b[0m\u001b[0m\n\u001b[0;32m---> 67\u001b[0;31m       \u001b[0;32mraise\u001b[0m \u001b[0me\u001b[0m\u001b[0;34m.\u001b[0m\u001b[0mwith_traceback\u001b[0m\u001b[0;34m(\u001b[0m\u001b[0mfiltered_tb\u001b[0m\u001b[0;34m)\u001b[0m \u001b[0;32mfrom\u001b[0m \u001b[0;32mNone\u001b[0m\u001b[0;34m\u001b[0m\u001b[0;34m\u001b[0m\u001b[0m\n\u001b[0m\u001b[1;32m     68\u001b[0m     \u001b[0;32mfinally\u001b[0m\u001b[0;34m:\u001b[0m\u001b[0;34m\u001b[0m\u001b[0;34m\u001b[0m\u001b[0m\n\u001b[1;32m     69\u001b[0m       \u001b[0;32mdel\u001b[0m \u001b[0mfiltered_tb\u001b[0m\u001b[0;34m\u001b[0m\u001b[0;34m\u001b[0m\u001b[0m\n",
            "\u001b[0;32m/usr/local/lib/python3.7/dist-packages/keras/utils/traceback_utils.py\u001b[0m in \u001b[0;36merror_handler\u001b[0;34m(*args, **kwargs)\u001b[0m\n\u001b[1;32m     62\u001b[0m     \u001b[0mfiltered_tb\u001b[0m \u001b[0;34m=\u001b[0m \u001b[0;32mNone\u001b[0m\u001b[0;34m\u001b[0m\u001b[0;34m\u001b[0m\u001b[0m\n\u001b[1;32m     63\u001b[0m     \u001b[0;32mtry\u001b[0m\u001b[0;34m:\u001b[0m\u001b[0;34m\u001b[0m\u001b[0;34m\u001b[0m\u001b[0m\n\u001b[0;32m---> 64\u001b[0;31m       \u001b[0;32mreturn\u001b[0m \u001b[0mfn\u001b[0m\u001b[0;34m(\u001b[0m\u001b[0;34m*\u001b[0m\u001b[0margs\u001b[0m\u001b[0;34m,\u001b[0m \u001b[0;34m**\u001b[0m\u001b[0mkwargs\u001b[0m\u001b[0;34m)\u001b[0m\u001b[0;34m\u001b[0m\u001b[0;34m\u001b[0m\u001b[0m\n\u001b[0m\u001b[1;32m     65\u001b[0m     \u001b[0;32mexcept\u001b[0m \u001b[0mException\u001b[0m \u001b[0;32mas\u001b[0m \u001b[0me\u001b[0m\u001b[0;34m:\u001b[0m  \u001b[0;31m# pylint: disable=broad-except\u001b[0m\u001b[0;34m\u001b[0m\u001b[0;34m\u001b[0m\u001b[0m\n\u001b[1;32m     66\u001b[0m       \u001b[0mfiltered_tb\u001b[0m \u001b[0;34m=\u001b[0m \u001b[0m_process_traceback_frames\u001b[0m\u001b[0;34m(\u001b[0m\u001b[0me\u001b[0m\u001b[0;34m.\u001b[0m\u001b[0m__traceback__\u001b[0m\u001b[0;34m)\u001b[0m\u001b[0;34m\u001b[0m\u001b[0;34m\u001b[0m\u001b[0m\n",
            "\u001b[0;31mTypeError\u001b[0m: fit() got an unexpected keyword argument 'nb_epoch'"
          ]
        }
      ]
    },
    {
      "cell_type": "code",
      "source": [
        "print('모델 평가')\n",
        "evaluation = model.evaluate(x_test, y_test, batch_size=32)\n",
        "print('Accuracy: ' + str(evaluation[1]))"
      ],
      "metadata": {
        "id": "d1U3FJEaZGp5"
      },
      "execution_count": null,
      "outputs": []
    }
  ]
}